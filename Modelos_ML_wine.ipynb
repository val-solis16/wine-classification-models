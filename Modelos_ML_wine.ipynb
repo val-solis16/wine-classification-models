{
  "nbformat": 4,
  "nbformat_minor": 0,
  "metadata": {
    "colab": {
      "provenance": []
    },
    "kernelspec": {
      "name": "python3",
      "display_name": "Python 3"
    },
    "language_info": {
      "name": "python"
    }
  },
  "cells": [
    {
      "cell_type": "markdown",
      "source": [
        "# Laboratorio 3 Valeria Solís\n",
        "## Machine Learning con Python Avanzado"
      ],
      "metadata": {
        "id": "iKHD946y_AkE"
      }
    },
    {
      "cell_type": "code",
      "source": [
        "# Carga de librerías\n",
        "from sklearn.datasets import load_wine\n",
        "from sklearn.model_selection import train_test_split\n",
        "from sklearn.tree import DecisionTreeClassifier\n",
        "from sklearn.metrics import accuracy_score, classification_report, confusion_matrix\n",
        "from sklearn.ensemble import RandomForestClassifier\n",
        "from sklearn.metrics import accuracy_score, classification_report, confusion_matrix\n",
        "from sklearn.model_selection import cross_val_score\n",
        "\n",
        "# Carga de datos\n",
        "wine = load_wine()\n",
        "print(dict(enumerate(wine.target_names)))\n",
        "X = wine.data\n",
        "y = wine.target"
      ],
      "metadata": {
        "id": "PbA726aiB5R2",
        "colab": {
          "base_uri": "https://localhost:8080/"
        },
        "outputId": "319133d9-0225-43bc-880a-b5cc039457b2"
      },
      "execution_count": 8,
      "outputs": [
        {
          "output_type": "stream",
          "name": "stdout",
          "text": [
            "{0: np.str_('class_0'), 1: np.str_('class_1'), 2: np.str_('class_2')}\n"
          ]
        }
      ]
    },
    {
      "cell_type": "code",
      "source": [
        "# Division de datos\n",
        "X_train, X_test, y_train, y_test = train_test_split(\n",
        "    X, y, test_size=0.2, random_state=42, stratify=y)"
      ],
      "metadata": {
        "id": "uK639IDrCcW9"
      },
      "execution_count": 9,
      "outputs": []
    },
    {
      "cell_type": "markdown",
      "source": [
        "## Decision Tree"
      ],
      "metadata": {
        "id": "afF_g2JFB5sq"
      }
    },
    {
      "cell_type": "code",
      "execution_count": 13,
      "metadata": {
        "id": "G61pNkbq1JGR",
        "colab": {
          "base_uri": "https://localhost:8080/"
        },
        "outputId": "186205f9-d235-4be5-cc73-75e08ef04f74"
      },
      "outputs": [
        {
          "output_type": "stream",
          "name": "stdout",
          "text": [
            "CV Accuracy Árbol: 0.8653968253968254\n",
            "Accuracy: 0.9444\n",
            "Reporte de clasificación:\n",
            "               precision    recall  f1-score   support\n",
            "\n",
            "           0       1.00      0.92      0.96        12\n",
            "           1       0.88      1.00      0.93        14\n",
            "           2       1.00      0.90      0.95        10\n",
            "\n",
            "    accuracy                           0.94        36\n",
            "   macro avg       0.96      0.94      0.95        36\n",
            "weighted avg       0.95      0.94      0.94        36\n",
            "\n",
            "Matriz de confusión:\n",
            " [[11  1  0]\n",
            " [ 0 14  0]\n",
            " [ 0  1  9]]\n"
          ]
        }
      ],
      "source": [
        "# Crear el modelo del árbol de decisión\n",
        "dtc = DecisionTreeClassifier(random_state=42)\n",
        "\n",
        "# Validación cruzada\n",
        "cv_scores_dtc = cross_val_score(dtc, X, y, cv=5, scoring='accuracy')\n",
        "print(\"CV Accuracy Árbol:\", cv_scores_dtc.mean())\n",
        "\n",
        "# Entrenar el modelo\n",
        "dtc.fit(X_train, y_train)\n",
        "\n",
        "# Hacer las predicciones\n",
        "y_pred_dtc = dtc.predict(X_test)\n",
        "\n",
        "# Evaluar el modelo\n",
        "print(f\"Accuracy: {accuracy_score(y_test, y_pred_dtc):.4f}\")\n",
        "print(\"Reporte de clasificación:\\n\", classification_report(y_test, y_pred_dtc))\n",
        "print(\"Matriz de confusión:\\n\", confusion_matrix(y_test, y_pred_dtc))\n"
      ]
    },
    {
      "cell_type": "markdown",
      "source": [
        "Según el modelo de arbol de decisión, para la clase 0 se obtuvo una buena precisión, ya que no se equivocó al predecir clase 0, pero sí falló 1 vez en el recall porque no reconoció uno de sus casos verdaderos.\n",
        "\n",
        "Para la clase 1 se obtuvo un muy buen recall porque logró reconocer todos los vinos clase 1, pero tuvo una pequeña confusión al predecirla cuando no correspondía y eso explica que la precisión bajara a 0.88.\n",
        "\n",
        "Y para clase 2 se obtuvo una buena precisión pero no logró reconocer a todos los vinos clase 2 y por eso el recall de 0.90.\n",
        "\n",
        "En cuanto a la matriz de confusión, el modelo confundió un vino de clase 0 con uno de clase 1, y también confundió un vino de clase 2 con uno de clase 1. La clase 1 si fue predicha de manera perfecta sin errores."
      ],
      "metadata": {
        "id": "xlgyb6s6e_dQ"
      }
    },
    {
      "cell_type": "markdown",
      "source": [
        "## Random Forest"
      ],
      "metadata": {
        "id": "iCjbpRdLAh_p"
      }
    },
    {
      "cell_type": "code",
      "source": [
        "# Crear el modelo de random forest\n",
        "rf = RandomForestClassifier(n_estimators=100, random_state=42)\n",
        "\n",
        "# Validación cruzada\n",
        "cv_scores_rf = cross_val_score(rf, X, y, cv=5, scoring='accuracy')\n",
        "print(\"CV Accuracy RF:\", cv_scores_rf.mean())\n",
        "\n",
        "# Entrenar el modelo\n",
        "rf.fit(X_train, y_train)\n",
        "\n",
        "# Hacer las predicciones\n",
        "y_pred_rf = rf.predict(X_test)\n",
        "\n",
        "\n",
        "# Evaluar el modelo\n",
        "print(f\"Accuracy: {accuracy_score(y_test, y_pred_rf):.4f}\")\n",
        "print(\"Reporte de clasificación:\\n\", classification_report(y_test, y_pred_rf))\n",
        "print(\"Matriz de confusión:\\n\", confusion_matrix(y_test, y_pred_rf))\n"
      ],
      "metadata": {
        "id": "m302TYD9AicI",
        "colab": {
          "base_uri": "https://localhost:8080/"
        },
        "outputId": "2aef9bdc-811a-4fff-fa26-2477a65a4caa"
      },
      "execution_count": 12,
      "outputs": [
        {
          "output_type": "stream",
          "name": "stdout",
          "text": [
            "CV Accuracy RF: 0.9720634920634922\n",
            "Accuracy: 1.0000\n",
            "Reporte de clasificación:\n",
            "               precision    recall  f1-score   support\n",
            "\n",
            "           0       1.00      1.00      1.00        12\n",
            "           1       1.00      1.00      1.00        14\n",
            "           2       1.00      1.00      1.00        10\n",
            "\n",
            "    accuracy                           1.00        36\n",
            "   macro avg       1.00      1.00      1.00        36\n",
            "weighted avg       1.00      1.00      1.00        36\n",
            "\n",
            "Matriz de confusión:\n",
            " [[12  0  0]\n",
            " [ 0 14  0]\n",
            " [ 0  0 10]]\n"
          ]
        }
      ]
    },
    {
      "cell_type": "markdown",
      "source": [
        "Según el modelo de Random Forest, el modelo no cometió ningún error de clasificación de clases de vinos, cada clase fue reconocida de manera perfecta, obteniendo la precisión, recall y F1 de 1.00 en todas las clases de vinos.\n",
        "\n",
        "En cuanto a la matriz de confusión, no hay errores, ya que no hay valores fuera de la diagonal, cada clase fue predicha de manera correcta por el modelo.\n",
        "\n"
      ],
      "metadata": {
        "id": "5emhJTeFfAhl"
      }
    },
    {
      "cell_type": "markdown",
      "source": [
        "# Informe Comparativo de Modelos de Clasificación\n",
        "\n",
        "Se utilizó el dataset Vinos (`sklearn.datasets.load_wine`) y los modelos aplicados fueron Árbol de Decisión y Random Forest\n",
        "\n",
        "## Preparación del Dataset\n",
        "\n",
        "- El dataset contiene 178 observaciones y 13 variables numéricas.\n",
        "- La variable objetivo (`target`) representa 3 tipos de vino: clases 0, 1 y 2.\n",
        "- No contiene valores nulos.\n",
        "- Se dividieron los datos en entrenamiento (80%) y prueba (20%).\n",
        "\n",
        "## Modelos\n",
        "\n",
        "### Árbol de Decisión\n",
        "- Entrenado con el criterio de impureza **Gini**.\n",
        "- **Accuracy:** 0.94\n",
        "- Métricas:\n",
        "  - Clases 0 y 2: precisión = 1.00\n",
        "  - Clase 1: precisión = 0.88, recall = 1.00\n",
        "- Matriz de confusión: Se detectaron algunos falsos positivos hacia la clase 1.\n",
        "\n",
        "### Random Forest\n",
        "- Ensamble de **100 árboles**, también usando criterio **Gini**.\n",
        "- **Accuracy:** 1.00\n",
        "- Métricas:\n",
        "  - Precisión, recall y f1-score = 1.00 en todas las clases\n",
        "- Matriz de confusión: Predicciones completamente correctas.\n",
        "\n",
        "## Validación Cruzada\n",
        "\n",
        "Se aplicó validación cruzada para estimar la estabilidad de los modelos.\n",
        "\n",
        "| Modelo             | Accuracy promedio (CV) |\n",
        "|--------------------|------------------------|\n",
        "| Árbol de Decisión  | ~0.94                  |\n",
        "| Random Forest      | ~0.98–1.00             |\n",
        "\n",
        "Ambos modelos mostraron buen rendimiento, pero **Random Forest fue más consistente**.\n",
        "\n",
        "## Conclusión General\n",
        "\n",
        "Ambos modelos clasificaron correctamente la mayoría de los vinos.\n",
        "\n",
        "- **Random Forest** fue el que mejor se adaptó al problema, mostrando:\n",
        "  - Mayor precisión\n",
        "  - Mejor generalización (validación cruzada)\n",
        "  - Mayor robustez\n",
        "\n",
        "- El **Árbol de Decisión** sigue siendo una buena opción cuando se necesita un modelo **explicable y visualmente interpretable**, aunque fue ligeramente menos preciso que Random Forest."
      ],
      "metadata": {
        "id": "M3odAjsQirF-"
      }
    }
  ]
}